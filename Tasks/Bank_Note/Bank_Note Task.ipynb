{
 "cells": [
  {
   "cell_type": "code",
   "execution_count": 1,
   "id": "74cce87d",
   "metadata": {},
   "outputs": [],
   "source": [
    "import pandas as pd\n",
    "import numpy as np\n",
    "import matplotlib.pyplot as plt\n",
    "%matplotlib inline\n",
    "\n",
    "from sklearn.preprocessing import LabelEncoder, StandardScaler\n",
    "from sklearn.model_selection import train_test_split\n",
    "from sklearn.metrics import classification_report, confusion_matrix\n",
    "\n",
    "import tensorflow as tf \n",
    "from tensorflow import keras\n",
    "from keras.models import Sequential\n",
    "from keras.layers import Dense, Flatten\n",
    "from keras.optimizers import Adam\n",
    "from keras.callbacks import ModelCheckpoint\n",
    "\n",
    "pd.set_option('display.max_columns',None)\n",
    "\n",
    "import warnings\n",
    "warnings.filterwarnings('ignore')"
   ]
  },
  {
   "cell_type": "code",
   "execution_count": 2,
   "id": "f40dbb07",
   "metadata": {},
   "outputs": [
    {
     "data": {
      "text/html": [
       "<div>\n",
       "<style scoped>\n",
       "    .dataframe tbody tr th:only-of-type {\n",
       "        vertical-align: middle;\n",
       "    }\n",
       "\n",
       "    .dataframe tbody tr th {\n",
       "        vertical-align: top;\n",
       "    }\n",
       "\n",
       "    .dataframe thead th {\n",
       "        text-align: right;\n",
       "    }\n",
       "</style>\n",
       "<table border=\"1\" class=\"dataframe\">\n",
       "  <thead>\n",
       "    <tr style=\"text-align: right;\">\n",
       "      <th></th>\n",
       "      <th>variance</th>\n",
       "      <th>skewness</th>\n",
       "      <th>curtosis</th>\n",
       "      <th>entropy</th>\n",
       "      <th>class</th>\n",
       "    </tr>\n",
       "  </thead>\n",
       "  <tbody>\n",
       "    <tr>\n",
       "      <th>0</th>\n",
       "      <td>3.62160</td>\n",
       "      <td>8.66610</td>\n",
       "      <td>-2.8073</td>\n",
       "      <td>-0.44699</td>\n",
       "      <td>0</td>\n",
       "    </tr>\n",
       "    <tr>\n",
       "      <th>1</th>\n",
       "      <td>4.54590</td>\n",
       "      <td>8.16740</td>\n",
       "      <td>-2.4586</td>\n",
       "      <td>-1.46210</td>\n",
       "      <td>0</td>\n",
       "    </tr>\n",
       "    <tr>\n",
       "      <th>2</th>\n",
       "      <td>3.86600</td>\n",
       "      <td>-2.63830</td>\n",
       "      <td>1.9242</td>\n",
       "      <td>0.10645</td>\n",
       "      <td>0</td>\n",
       "    </tr>\n",
       "    <tr>\n",
       "      <th>3</th>\n",
       "      <td>3.45660</td>\n",
       "      <td>9.52280</td>\n",
       "      <td>-4.0112</td>\n",
       "      <td>-3.59440</td>\n",
       "      <td>0</td>\n",
       "    </tr>\n",
       "    <tr>\n",
       "      <th>4</th>\n",
       "      <td>0.32924</td>\n",
       "      <td>-4.45520</td>\n",
       "      <td>4.5718</td>\n",
       "      <td>-0.98880</td>\n",
       "      <td>0</td>\n",
       "    </tr>\n",
       "    <tr>\n",
       "      <th>...</th>\n",
       "      <td>...</td>\n",
       "      <td>...</td>\n",
       "      <td>...</td>\n",
       "      <td>...</td>\n",
       "      <td>...</td>\n",
       "    </tr>\n",
       "    <tr>\n",
       "      <th>1367</th>\n",
       "      <td>0.40614</td>\n",
       "      <td>1.34920</td>\n",
       "      <td>-1.4501</td>\n",
       "      <td>-0.55949</td>\n",
       "      <td>1</td>\n",
       "    </tr>\n",
       "    <tr>\n",
       "      <th>1368</th>\n",
       "      <td>-1.38870</td>\n",
       "      <td>-4.87730</td>\n",
       "      <td>6.4774</td>\n",
       "      <td>0.34179</td>\n",
       "      <td>1</td>\n",
       "    </tr>\n",
       "    <tr>\n",
       "      <th>1369</th>\n",
       "      <td>-3.75030</td>\n",
       "      <td>-13.45860</td>\n",
       "      <td>17.5932</td>\n",
       "      <td>-2.77710</td>\n",
       "      <td>1</td>\n",
       "    </tr>\n",
       "    <tr>\n",
       "      <th>1370</th>\n",
       "      <td>-3.56370</td>\n",
       "      <td>-8.38270</td>\n",
       "      <td>12.3930</td>\n",
       "      <td>-1.28230</td>\n",
       "      <td>1</td>\n",
       "    </tr>\n",
       "    <tr>\n",
       "      <th>1371</th>\n",
       "      <td>-2.54190</td>\n",
       "      <td>-0.65804</td>\n",
       "      <td>2.6842</td>\n",
       "      <td>1.19520</td>\n",
       "      <td>1</td>\n",
       "    </tr>\n",
       "  </tbody>\n",
       "</table>\n",
       "<p>1372 rows × 5 columns</p>\n",
       "</div>"
      ],
      "text/plain": [
       "      variance  skewness  curtosis  entropy  class\n",
       "0      3.62160   8.66610   -2.8073 -0.44699      0\n",
       "1      4.54590   8.16740   -2.4586 -1.46210      0\n",
       "2      3.86600  -2.63830    1.9242  0.10645      0\n",
       "3      3.45660   9.52280   -4.0112 -3.59440      0\n",
       "4      0.32924  -4.45520    4.5718 -0.98880      0\n",
       "...        ...       ...       ...      ...    ...\n",
       "1367   0.40614   1.34920   -1.4501 -0.55949      1\n",
       "1368  -1.38870  -4.87730    6.4774  0.34179      1\n",
       "1369  -3.75030 -13.45860   17.5932 -2.77710      1\n",
       "1370  -3.56370  -8.38270   12.3930 -1.28230      1\n",
       "1371  -2.54190  -0.65804    2.6842  1.19520      1\n",
       "\n",
       "[1372 rows x 5 columns]"
      ]
     },
     "execution_count": 2,
     "metadata": {},
     "output_type": "execute_result"
    }
   ],
   "source": [
    "df = pd.read_csv('BankNote_Authentication.csv')\n",
    "df"
   ]
  },
  {
   "cell_type": "code",
   "execution_count": 3,
   "id": "83aaf4b2",
   "metadata": {},
   "outputs": [
    {
     "name": "stdout",
     "output_type": "stream",
     "text": [
      "<class 'pandas.core.frame.DataFrame'>\n",
      "RangeIndex: 1372 entries, 0 to 1371\n",
      "Data columns (total 5 columns):\n",
      " #   Column    Non-Null Count  Dtype  \n",
      "---  ------    --------------  -----  \n",
      " 0   variance  1372 non-null   float64\n",
      " 1   skewness  1372 non-null   float64\n",
      " 2   curtosis  1372 non-null   float64\n",
      " 3   entropy   1372 non-null   float64\n",
      " 4   class     1372 non-null   int64  \n",
      "dtypes: float64(4), int64(1)\n",
      "memory usage: 53.7 KB\n"
     ]
    }
   ],
   "source": [
    "df.info()"
   ]
  },
  {
   "cell_type": "code",
   "execution_count": 4,
   "id": "e4426f9a",
   "metadata": {},
   "outputs": [
    {
     "data": {
      "text/plain": [
       "variance    0\n",
       "skewness    0\n",
       "curtosis    0\n",
       "entropy     0\n",
       "class       0\n",
       "dtype: int64"
      ]
     },
     "execution_count": 4,
     "metadata": {},
     "output_type": "execute_result"
    }
   ],
   "source": [
    "df.isnull().sum()"
   ]
  },
  {
   "cell_type": "code",
   "execution_count": 5,
   "id": "078d75d5",
   "metadata": {},
   "outputs": [
    {
     "data": {
      "text/html": [
       "<div>\n",
       "<style scoped>\n",
       "    .dataframe tbody tr th:only-of-type {\n",
       "        vertical-align: middle;\n",
       "    }\n",
       "\n",
       "    .dataframe tbody tr th {\n",
       "        vertical-align: top;\n",
       "    }\n",
       "\n",
       "    .dataframe thead th {\n",
       "        text-align: right;\n",
       "    }\n",
       "</style>\n",
       "<table border=\"1\" class=\"dataframe\">\n",
       "  <thead>\n",
       "    <tr style=\"text-align: right;\">\n",
       "      <th></th>\n",
       "      <th>variance</th>\n",
       "      <th>skewness</th>\n",
       "      <th>curtosis</th>\n",
       "      <th>entropy</th>\n",
       "      <th>class</th>\n",
       "    </tr>\n",
       "  </thead>\n",
       "  <tbody>\n",
       "    <tr>\n",
       "      <th>count</th>\n",
       "      <td>1372.000000</td>\n",
       "      <td>1372.000000</td>\n",
       "      <td>1372.000000</td>\n",
       "      <td>1372.000000</td>\n",
       "      <td>1372.000000</td>\n",
       "    </tr>\n",
       "    <tr>\n",
       "      <th>mean</th>\n",
       "      <td>0.433735</td>\n",
       "      <td>1.922353</td>\n",
       "      <td>1.397627</td>\n",
       "      <td>-1.191657</td>\n",
       "      <td>0.444606</td>\n",
       "    </tr>\n",
       "    <tr>\n",
       "      <th>std</th>\n",
       "      <td>2.842763</td>\n",
       "      <td>5.869047</td>\n",
       "      <td>4.310030</td>\n",
       "      <td>2.101013</td>\n",
       "      <td>0.497103</td>\n",
       "    </tr>\n",
       "    <tr>\n",
       "      <th>min</th>\n",
       "      <td>-7.042100</td>\n",
       "      <td>-13.773100</td>\n",
       "      <td>-5.286100</td>\n",
       "      <td>-8.548200</td>\n",
       "      <td>0.000000</td>\n",
       "    </tr>\n",
       "    <tr>\n",
       "      <th>25%</th>\n",
       "      <td>-1.773000</td>\n",
       "      <td>-1.708200</td>\n",
       "      <td>-1.574975</td>\n",
       "      <td>-2.413450</td>\n",
       "      <td>0.000000</td>\n",
       "    </tr>\n",
       "    <tr>\n",
       "      <th>50%</th>\n",
       "      <td>0.496180</td>\n",
       "      <td>2.319650</td>\n",
       "      <td>0.616630</td>\n",
       "      <td>-0.586650</td>\n",
       "      <td>0.000000</td>\n",
       "    </tr>\n",
       "    <tr>\n",
       "      <th>75%</th>\n",
       "      <td>2.821475</td>\n",
       "      <td>6.814625</td>\n",
       "      <td>3.179250</td>\n",
       "      <td>0.394810</td>\n",
       "      <td>1.000000</td>\n",
       "    </tr>\n",
       "    <tr>\n",
       "      <th>max</th>\n",
       "      <td>6.824800</td>\n",
       "      <td>12.951600</td>\n",
       "      <td>17.927400</td>\n",
       "      <td>2.449500</td>\n",
       "      <td>1.000000</td>\n",
       "    </tr>\n",
       "  </tbody>\n",
       "</table>\n",
       "</div>"
      ],
      "text/plain": [
       "          variance     skewness     curtosis      entropy        class\n",
       "count  1372.000000  1372.000000  1372.000000  1372.000000  1372.000000\n",
       "mean      0.433735     1.922353     1.397627    -1.191657     0.444606\n",
       "std       2.842763     5.869047     4.310030     2.101013     0.497103\n",
       "min      -7.042100   -13.773100    -5.286100    -8.548200     0.000000\n",
       "25%      -1.773000    -1.708200    -1.574975    -2.413450     0.000000\n",
       "50%       0.496180     2.319650     0.616630    -0.586650     0.000000\n",
       "75%       2.821475     6.814625     3.179250     0.394810     1.000000\n",
       "max       6.824800    12.951600    17.927400     2.449500     1.000000"
      ]
     },
     "execution_count": 5,
     "metadata": {},
     "output_type": "execute_result"
    }
   ],
   "source": [
    "df.describe()"
   ]
  },
  {
   "cell_type": "code",
   "execution_count": 6,
   "id": "85368108",
   "metadata": {},
   "outputs": [],
   "source": [
    "X = df.values[:, :-1]\n",
    "y = df.values[:, -1]"
   ]
  },
  {
   "cell_type": "code",
   "execution_count": 7,
   "id": "01aeafb6",
   "metadata": {},
   "outputs": [],
   "source": [
    "#Ensure all values are string\n",
    "\n",
    "X = X.astype('float32')"
   ]
  },
  {
   "cell_type": "code",
   "execution_count": 8,
   "id": "4e4877a4",
   "metadata": {},
   "outputs": [
    {
     "name": "stdout",
     "output_type": "stream",
     "text": [
      "[0. 0. 0. ... 1. 1. 1.]\n"
     ]
    }
   ],
   "source": [
    "print(y)"
   ]
  },
  {
   "cell_type": "code",
   "execution_count": 9,
   "id": "7c530b55",
   "metadata": {},
   "outputs": [],
   "source": [
    "# convert y values from float to int\n",
    "\n",
    "enc = LabelEncoder()\n",
    "y = enc.fit_transform(y)"
   ]
  },
  {
   "cell_type": "code",
   "execution_count": 10,
   "id": "a6d9d74d",
   "metadata": {},
   "outputs": [
    {
     "name": "stdout",
     "output_type": "stream",
     "text": [
      "[0 0 0 ... 1 1 1]\n"
     ]
    }
   ],
   "source": [
    "print(y)"
   ]
  },
  {
   "cell_type": "code",
   "execution_count": 11,
   "id": "09758ac7",
   "metadata": {},
   "outputs": [],
   "source": [
    "X_train, X_test, y_train, y_test = train_test_split(X, y, test_size= 0.2, random_state= 42)"
   ]
  },
  {
   "cell_type": "code",
   "execution_count": 12,
   "id": "ef387d0d",
   "metadata": {},
   "outputs": [
    {
     "data": {
      "text/plain": [
       "((1097, 4), (1097,))"
      ]
     },
     "execution_count": 12,
     "metadata": {},
     "output_type": "execute_result"
    }
   ],
   "source": [
    "X_train.shape, y_train.shape"
   ]
  },
  {
   "cell_type": "code",
   "execution_count": 13,
   "id": "04db9dce",
   "metadata": {},
   "outputs": [
    {
     "data": {
      "text/plain": [
       "((275, 4), (275,))"
      ]
     },
     "execution_count": 13,
     "metadata": {},
     "output_type": "execute_result"
    }
   ],
   "source": [
    "X_test.shape, y_test.shape"
   ]
  },
  {
   "cell_type": "code",
   "execution_count": 14,
   "id": "26c8ec87",
   "metadata": {},
   "outputs": [
    {
     "name": "stdout",
     "output_type": "stream",
     "text": [
      "Model: \"sequential\"\n",
      "_________________________________________________________________\n",
      "Layer (type)                 Output Shape              Param #   \n",
      "=================================================================\n",
      "flatten (Flatten)            (None, 4)                 0         \n",
      "_________________________________________________________________\n",
      "dense (Dense)                (None, 10)                50        \n",
      "_________________________________________________________________\n",
      "dense_1 (Dense)              (None, 3)                 33        \n",
      "=================================================================\n",
      "Total params: 83\n",
      "Trainable params: 83\n",
      "Non-trainable params: 0\n",
      "_________________________________________________________________\n"
     ]
    }
   ],
   "source": [
    "model = Sequential()\n",
    "\n",
    "model.add(Flatten(input_shape = (4,)))\n",
    "\n",
    "model.add(Dense(10, kernel_initializer = 'ones', bias_initializer = 'zeros', activation='relu'))\n",
    "\n",
    "model.add(Dense(3, activation='softmax'))        \n",
    "\n",
    "\n",
    "model.compile(optimizer = 'Adam',\n",
    "              loss = 'sparse_categorical_crossentropy',\n",
    "              metrics = ['accuracy'])\n",
    "\n",
    "model.summary()"
   ]
  },
  {
   "cell_type": "markdown",
   "id": "e3f211f2",
   "metadata": {},
   "source": [
    "**Here, we Initialize coordinates weights = 1 and bias = 0**"
   ]
  },
  {
   "cell_type": "code",
   "execution_count": 15,
   "id": "a22bc5c6",
   "metadata": {},
   "outputs": [
    {
     "name": "stdout",
     "output_type": "stream",
     "text": [
      "Epoch 1/50\n",
      "35/35 [==============================] - 2s 30ms/step - loss: 10.2266 - accuracy: 0.0650 - val_loss: 7.7124 - val_accuracy: 0.1055\n",
      "\n",
      "Epoch 00001: loss improved from inf to 9.47698, saving model to ANN_BankNote.hdf5\n",
      "Epoch 2/50\n",
      "35/35 [==============================] - 0s 4ms/step - loss: 6.9060 - accuracy: 0.0706 - val_loss: 4.5180 - val_accuracy: 0.1091\n",
      "\n",
      "Epoch 00002: loss improved from 9.47698 to 6.18711, saving model to ANN_BankNote.hdf5\n",
      "Epoch 3/50\n",
      "35/35 [==============================] - 0s 5ms/step - loss: 3.6937 - accuracy: 0.1122 - val_loss: 1.6655 - val_accuracy: 0.2218\n",
      "\n",
      "Epoch 00003: loss improved from 6.18711 to 3.03633, saving model to ANN_BankNote.hdf5\n",
      "Epoch 4/50\n",
      "35/35 [==============================] - 0s 3ms/step - loss: 1.2238 - accuracy: 0.2877 - val_loss: 0.6680 - val_accuracy: 0.5127\n",
      "\n",
      "Epoch 00004: loss improved from 3.03633 to 1.00441, saving model to ANN_BankNote.hdf5\n",
      "Epoch 5/50\n",
      "35/35 [==============================] - 0s 3ms/step - loss: 0.6113 - accuracy: 0.5695 - val_loss: 0.5674 - val_accuracy: 0.5636\n",
      "\n",
      "Epoch 00005: loss improved from 1.00441 to 0.58083, saving model to ANN_BankNote.hdf5\n",
      "Epoch 6/50\n",
      "35/35 [==============================] - 0s 3ms/step - loss: 0.4936 - accuracy: 0.6241 - val_loss: 0.5338 - val_accuracy: 0.5709\n",
      "\n",
      "Epoch 00006: loss improved from 0.58083 to 0.52763, saving model to ANN_BankNote.hdf5\n",
      "Epoch 7/50\n",
      "35/35 [==============================] - 0s 5ms/step - loss: 0.5131 - accuracy: 0.5906 - val_loss: 0.5079 - val_accuracy: 0.5745\n",
      "\n",
      "Epoch 00007: loss improved from 0.52763 to 0.49989, saving model to ANN_BankNote.hdf5\n",
      "Epoch 8/50\n",
      "35/35 [==============================] - 0s 4ms/step - loss: 0.4617 - accuracy: 0.6127 - val_loss: 0.4853 - val_accuracy: 0.5855\n",
      "\n",
      "Epoch 00008: loss improved from 0.49989 to 0.47710, saving model to ANN_BankNote.hdf5\n",
      "Epoch 9/50\n",
      "35/35 [==============================] - 0s 3ms/step - loss: 0.4543 - accuracy: 0.8256 - val_loss: 0.4641 - val_accuracy: 0.9491\n",
      "\n",
      "Epoch 00009: loss improved from 0.47710 to 0.45658, saving model to ANN_BankNote.hdf5\n",
      "Epoch 10/50\n",
      "35/35 [==============================] - 0s 3ms/step - loss: 0.4331 - accuracy: 0.9666 - val_loss: 0.4443 - val_accuracy: 0.9491\n",
      "\n",
      "Epoch 00010: loss improved from 0.45658 to 0.43728, saving model to ANN_BankNote.hdf5\n",
      "Epoch 11/50\n",
      "35/35 [==============================] - 0s 3ms/step - loss: 0.4252 - accuracy: 0.9656 - val_loss: 0.4256 - val_accuracy: 0.9564\n",
      "\n",
      "Epoch 00011: loss improved from 0.43728 to 0.41910, saving model to ANN_BankNote.hdf5\n",
      "Epoch 12/50\n",
      "35/35 [==============================] - 0s 4ms/step - loss: 0.4043 - accuracy: 0.9702 - val_loss: 0.4079 - val_accuracy: 0.9600\n",
      "\n",
      "Epoch 00012: loss improved from 0.41910 to 0.40152, saving model to ANN_BankNote.hdf5\n",
      "Epoch 13/50\n",
      "35/35 [==============================] - 0s 4ms/step - loss: 0.4089 - accuracy: 0.9583 - val_loss: 0.3912 - val_accuracy: 0.9636\n",
      "\n",
      "Epoch 00013: loss improved from 0.40152 to 0.38456, saving model to ANN_BankNote.hdf5\n",
      "Epoch 14/50\n",
      "35/35 [==============================] - 0s 3ms/step - loss: 0.3721 - accuracy: 0.9691 - val_loss: 0.3744 - val_accuracy: 0.9636\n",
      "\n",
      "Epoch 00014: loss improved from 0.38456 to 0.36808, saving model to ANN_BankNote.hdf5\n",
      "Epoch 15/50\n",
      "35/35 [==============================] - 0s 3ms/step - loss: 0.3680 - accuracy: 0.9691 - val_loss: 0.3585 - val_accuracy: 0.9673\n",
      "\n",
      "Epoch 00015: loss improved from 0.36808 to 0.35148, saving model to ANN_BankNote.hdf5\n",
      "Epoch 16/50\n",
      "35/35 [==============================] - 0s 3ms/step - loss: 0.3434 - accuracy: 0.9794 - val_loss: 0.3429 - val_accuracy: 0.9709\n",
      "\n",
      "Epoch 00016: loss improved from 0.35148 to 0.33510, saving model to ANN_BankNote.hdf5\n",
      "Epoch 17/50\n",
      "35/35 [==============================] - 0s 3ms/step - loss: 0.3092 - accuracy: 0.9713 - val_loss: 0.3275 - val_accuracy: 0.9709\n",
      "\n",
      "Epoch 00017: loss improved from 0.33510 to 0.31917, saving model to ANN_BankNote.hdf5\n",
      "Epoch 18/50\n",
      "35/35 [==============================] - 0s 3ms/step - loss: 0.2904 - accuracy: 0.9807 - val_loss: 0.3138 - val_accuracy: 0.9709\n",
      "\n",
      "Epoch 00018: loss improved from 0.31917 to 0.30341, saving model to ANN_BankNote.hdf5\n",
      "Epoch 19/50\n",
      "35/35 [==============================] - 0s 3ms/step - loss: 0.2771 - accuracy: 0.9777 - val_loss: 0.3004 - val_accuracy: 0.9709\n",
      "\n",
      "Epoch 00019: loss improved from 0.30341 to 0.28889, saving model to ANN_BankNote.hdf5\n",
      "Epoch 20/50\n",
      "35/35 [==============================] - 0s 2ms/step - loss: 0.2823 - accuracy: 0.9715 - val_loss: 0.2879 - val_accuracy: 0.9709\n",
      "\n",
      "Epoch 00020: loss improved from 0.28889 to 0.27498, saving model to ANN_BankNote.hdf5\n",
      "Epoch 21/50\n",
      "35/35 [==============================] - 0s 6ms/step - loss: 0.2653 - accuracy: 0.9792 - val_loss: 0.2761 - val_accuracy: 0.9709\n",
      "\n",
      "Epoch 00021: loss improved from 0.27498 to 0.26226, saving model to ANN_BankNote.hdf5\n",
      "Epoch 22/50\n",
      "35/35 [==============================] - 0s 5ms/step - loss: 0.2553 - accuracy: 0.9780 - val_loss: 0.2650 - val_accuracy: 0.9709\n",
      "\n",
      "Epoch 00022: loss improved from 0.26226 to 0.25052, saving model to ANN_BankNote.hdf5\n",
      "Epoch 23/50\n",
      "35/35 [==============================] - 0s 4ms/step - loss: 0.2408 - accuracy: 0.9849 - val_loss: 0.2547 - val_accuracy: 0.9709\n",
      "\n",
      "Epoch 00023: loss improved from 0.25052 to 0.23950, saving model to ANN_BankNote.hdf5\n",
      "Epoch 24/50\n",
      "35/35 [==============================] - 0s 4ms/step - loss: 0.2287 - accuracy: 0.9797 - val_loss: 0.2447 - val_accuracy: 0.9782\n",
      "\n",
      "Epoch 00024: loss improved from 0.23950 to 0.22938, saving model to ANN_BankNote.hdf5\n",
      "Epoch 25/50\n",
      "35/35 [==============================] - 0s 3ms/step - loss: 0.2172 - accuracy: 0.9821 - val_loss: 0.2358 - val_accuracy: 0.9782\n",
      "\n",
      "Epoch 00025: loss improved from 0.22938 to 0.21998, saving model to ANN_BankNote.hdf5\n",
      "Epoch 26/50\n",
      "35/35 [==============================] - 0s 4ms/step - loss: 0.2166 - accuracy: 0.9822 - val_loss: 0.2266 - val_accuracy: 0.9782\n",
      "\n",
      "Epoch 00026: loss improved from 0.21998 to 0.21140, saving model to ANN_BankNote.hdf5\n",
      "Epoch 27/50\n",
      "35/35 [==============================] - 0s 4ms/step - loss: 0.2051 - accuracy: 0.9775 - val_loss: 0.2185 - val_accuracy: 0.9782\n",
      "\n",
      "Epoch 00027: loss improved from 0.21140 to 0.20306, saving model to ANN_BankNote.hdf5\n",
      "Epoch 28/50\n",
      "35/35 [==============================] - 0s 3ms/step - loss: 0.1941 - accuracy: 0.9881 - val_loss: 0.2108 - val_accuracy: 0.9818\n",
      "\n",
      "Epoch 00028: loss improved from 0.20306 to 0.19535, saving model to ANN_BankNote.hdf5\n",
      "Epoch 29/50\n",
      "35/35 [==============================] - 0s 4ms/step - loss: 0.1931 - accuracy: 0.9870 - val_loss: 0.2039 - val_accuracy: 0.9818\n",
      "\n",
      "Epoch 00029: loss improved from 0.19535 to 0.18779, saving model to ANN_BankNote.hdf5\n",
      "Epoch 30/50\n",
      "35/35 [==============================] - 0s 4ms/step - loss: 0.1962 - accuracy: 0.9791 - val_loss: 0.1971 - val_accuracy: 0.9855\n",
      "\n",
      "Epoch 00030: loss improved from 0.18779 to 0.18087, saving model to ANN_BankNote.hdf5\n",
      "Epoch 31/50\n",
      "35/35 [==============================] - 0s 3ms/step - loss: 0.1650 - accuracy: 0.9864 - val_loss: 0.1910 - val_accuracy: 0.9855\n",
      "\n",
      "Epoch 00031: loss improved from 0.18087 to 0.17424, saving model to ANN_BankNote.hdf5\n",
      "Epoch 32/50\n",
      "35/35 [==============================] - 0s 4ms/step - loss: 0.1662 - accuracy: 0.9865 - val_loss: 0.1848 - val_accuracy: 0.9855\n",
      "\n",
      "Epoch 00032: loss improved from 0.17424 to 0.16822, saving model to ANN_BankNote.hdf5\n",
      "Epoch 33/50\n",
      "35/35 [==============================] - 0s 4ms/step - loss: 0.1634 - accuracy: 0.9797 - val_loss: 0.1792 - val_accuracy: 0.9855\n",
      "\n",
      "Epoch 00033: loss improved from 0.16822 to 0.16261, saving model to ANN_BankNote.hdf5\n",
      "Epoch 34/50\n",
      "35/35 [==============================] - 0s 3ms/step - loss: 0.1474 - accuracy: 0.9893 - val_loss: 0.1736 - val_accuracy: 0.9855\n",
      "\n",
      "Epoch 00034: loss improved from 0.16261 to 0.15729, saving model to ANN_BankNote.hdf5\n",
      "Epoch 35/50\n",
      "35/35 [==============================] - 0s 3ms/step - loss: 0.1547 - accuracy: 0.9836 - val_loss: 0.1682 - val_accuracy: 0.9855\n",
      "\n",
      "Epoch 00035: loss improved from 0.15729 to 0.15232, saving model to ANN_BankNote.hdf5\n",
      "Epoch 36/50\n",
      "35/35 [==============================] - 0s 3ms/step - loss: 0.1529 - accuracy: 0.9804 - val_loss: 0.1635 - val_accuracy: 0.9855\n",
      "\n",
      "Epoch 00036: loss improved from 0.15232 to 0.14772, saving model to ANN_BankNote.hdf5\n",
      "Epoch 37/50\n"
     ]
    },
    {
     "name": "stdout",
     "output_type": "stream",
     "text": [
      "35/35 [==============================] - 0s 3ms/step - loss: 0.1429 - accuracy: 0.9852 - val_loss: 0.1587 - val_accuracy: 0.9855\n",
      "\n",
      "Epoch 00037: loss improved from 0.14772 to 0.14320, saving model to ANN_BankNote.hdf5\n",
      "Epoch 38/50\n",
      "35/35 [==============================] - 0s 4ms/step - loss: 0.1393 - accuracy: 0.9846 - val_loss: 0.1540 - val_accuracy: 0.9891\n",
      "\n",
      "Epoch 00038: loss improved from 0.14320 to 0.13881, saving model to ANN_BankNote.hdf5\n",
      "Epoch 39/50\n",
      "35/35 [==============================] - 0s 4ms/step - loss: 0.1288 - accuracy: 0.9911 - val_loss: 0.1492 - val_accuracy: 0.9891\n",
      "\n",
      "Epoch 00039: loss improved from 0.13881 to 0.13456, saving model to ANN_BankNote.hdf5\n",
      "Epoch 40/50\n",
      "35/35 [==============================] - 0s 4ms/step - loss: 0.1342 - accuracy: 0.9791 - val_loss: 0.1449 - val_accuracy: 0.9891\n",
      "\n",
      "Epoch 00040: loss improved from 0.13456 to 0.13045, saving model to ANN_BankNote.hdf5\n",
      "Epoch 41/50\n",
      "35/35 [==============================] - 0s 4ms/step - loss: 0.1271 - accuracy: 0.9875 - val_loss: 0.1403 - val_accuracy: 0.9891\n",
      "\n",
      "Epoch 00041: loss improved from 0.13045 to 0.12644, saving model to ANN_BankNote.hdf5\n",
      "Epoch 42/50\n",
      "35/35 [==============================] - 0s 3ms/step - loss: 0.1241 - accuracy: 0.9888 - val_loss: 0.1362 - val_accuracy: 0.9891\n",
      "\n",
      "Epoch 00042: loss improved from 0.12644 to 0.12271, saving model to ANN_BankNote.hdf5\n",
      "Epoch 43/50\n",
      "35/35 [==============================] - 0s 3ms/step - loss: 0.1211 - accuracy: 0.9895 - val_loss: 0.1323 - val_accuracy: 0.9891\n",
      "\n",
      "Epoch 00043: loss improved from 0.12271 to 0.11909, saving model to ANN_BankNote.hdf5\n",
      "Epoch 44/50\n",
      "35/35 [==============================] - 0s 3ms/step - loss: 0.1219 - accuracy: 0.9850 - val_loss: 0.1286 - val_accuracy: 0.9927\n",
      "\n",
      "Epoch 00044: loss improved from 0.11909 to 0.11572, saving model to ANN_BankNote.hdf5\n",
      "Epoch 45/50\n",
      "35/35 [==============================] - 0s 4ms/step - loss: 0.1071 - accuracy: 0.9893 - val_loss: 0.1250 - val_accuracy: 0.9927\n",
      "\n",
      "Epoch 00045: loss improved from 0.11572 to 0.11246, saving model to ANN_BankNote.hdf5\n",
      "Epoch 46/50\n",
      "35/35 [==============================] - 0s 3ms/step - loss: 0.1172 - accuracy: 0.9843 - val_loss: 0.1215 - val_accuracy: 0.9927\n",
      "\n",
      "Epoch 00046: loss improved from 0.11246 to 0.10939, saving model to ANN_BankNote.hdf5\n",
      "Epoch 47/50\n",
      "35/35 [==============================] - 0s 4ms/step - loss: 0.1110 - accuracy: 0.9882 - val_loss: 0.1181 - val_accuracy: 0.9927\n",
      "\n",
      "Epoch 00047: loss improved from 0.10939 to 0.10625, saving model to ANN_BankNote.hdf5\n",
      "Epoch 48/50\n",
      "35/35 [==============================] - 0s 3ms/step - loss: 0.1033 - accuracy: 0.9869 - val_loss: 0.1149 - val_accuracy: 0.9927\n",
      "\n",
      "Epoch 00048: loss improved from 0.10625 to 0.10314, saving model to ANN_BankNote.hdf5\n",
      "Epoch 49/50\n",
      "35/35 [==============================] - 0s 4ms/step - loss: 0.1088 - accuracy: 0.9825 - val_loss: 0.1118 - val_accuracy: 0.9927\n",
      "\n",
      "Epoch 00049: loss improved from 0.10314 to 0.10036, saving model to ANN_BankNote.hdf5\n",
      "Epoch 50/50\n",
      "35/35 [==============================] - 0s 3ms/step - loss: 0.0970 - accuracy: 0.9883 - val_loss: 0.1091 - val_accuracy: 0.9927\n",
      "\n",
      "Epoch 00050: loss improved from 0.10036 to 0.09759, saving model to ANN_BankNote.hdf5\n"
     ]
    }
   ],
   "source": [
    "checkpoint = ModelCheckpoint(\"ANN_BankNote.hdf5\", monitor='loss', verbose=1, save_best_only=True, mode='auto')\n",
    "\n",
    "history = model.fit(X_train, y_train, validation_data= (X_test, y_test), epochs= 50, \n",
    "                    verbose = 1, callbacks= [checkpoint])"
   ]
  },
  {
   "cell_type": "code",
   "execution_count": 16,
   "id": "2f7edee6",
   "metadata": {},
   "outputs": [],
   "source": [
    "weights = model.layers[2].get_weights()[0]\n",
    "biases = model.layers[2].get_weights()[1]"
   ]
  },
  {
   "cell_type": "code",
   "execution_count": 17,
   "id": "88de5596",
   "metadata": {},
   "outputs": [
    {
     "name": "stdout",
     "output_type": "stream",
     "text": [
      "Final weights :  [[-0.49908352  0.4846833   0.36593276]\n",
      " [-0.03604472 -0.7307762  -0.19873704]\n",
      " [ 0.7373599  -0.075313   -0.84761214]\n",
      " [-0.24157093  0.19155434 -0.9493832 ]\n",
      " [-0.01358509  0.41301066 -0.1245819 ]\n",
      " [ 0.17042819 -0.25038078 -0.16851658]\n",
      " [-0.40915003 -0.5189591   0.28868663]\n",
      " [-0.40207174  0.5066915   0.34979096]\n",
      " [ 0.7208406   0.10519055 -0.34082302]\n",
      " [ 0.8385026   0.4967235  -0.08603296]]\n"
     ]
    }
   ],
   "source": [
    "print(\"Final weights : \",weights)"
   ]
  },
  {
   "cell_type": "code",
   "execution_count": 18,
   "id": "58da81bf",
   "metadata": {},
   "outputs": [
    {
     "name": "stdout",
     "output_type": "stream",
     "text": [
      "Final Bias:  [-0.6494338   0.99271864 -1.0626649 ]\n"
     ]
    }
   ],
   "source": [
    "print(\"Final Bias: \",biases)"
   ]
  },
  {
   "cell_type": "code",
   "execution_count": 19,
   "id": "69999e3c",
   "metadata": {},
   "outputs": [
    {
     "name": "stdout",
     "output_type": "stream",
     "text": [
      "35/35 [==============================] - 0s 2ms/step - loss: 0.0962 - accuracy: 0.9881\n",
      "9/9 [==============================] - 0s 2ms/step - loss: 0.1091 - accuracy: 0.9927\n",
      "\n",
      "Train_Accuracy : 0.988, Test_Accuracy: 0.993\n"
     ]
    }
   ],
   "source": [
    "_, train_acc = model.evaluate(X_train, y_train)\n",
    "_, test_acc = model.evaluate(X_test, y_test)\n",
    "\n",
    "print(\"\\nTrain_Accuracy : %.3f, Test_Accuracy: %.3f\" %(train_acc, test_acc))"
   ]
  },
  {
   "cell_type": "markdown",
   "id": "31cefb54",
   "metadata": {},
   "source": [
    "**Lets predict on some unseen data**"
   ]
  },
  {
   "cell_type": "code",
   "execution_count": 20,
   "id": "8bdd71ef",
   "metadata": {},
   "outputs": [],
   "source": [
    "row = [3.6216,8.6661,-2.8073,-0.44699]\n",
    "\n",
    "y_predict = model.predict_classes([row])"
   ]
  },
  {
   "cell_type": "code",
   "execution_count": 21,
   "id": "081a1114",
   "metadata": {},
   "outputs": [
    {
     "data": {
      "text/plain": [
       "0"
      ]
     },
     "execution_count": 21,
     "metadata": {},
     "output_type": "execute_result"
    }
   ],
   "source": [
    "y_predict[0]"
   ]
  },
  {
   "cell_type": "code",
   "execution_count": 22,
   "id": "a3a381e9",
   "metadata": {},
   "outputs": [],
   "source": [
    "row = [-4.6216,-15.451,12.8073,-1.44699]\n",
    "\n",
    "y_predict = model.predict_classes([row])"
   ]
  },
  {
   "cell_type": "code",
   "execution_count": 23,
   "id": "b2d747ad",
   "metadata": {},
   "outputs": [
    {
     "data": {
      "text/plain": [
       "1"
      ]
     },
     "execution_count": 23,
     "metadata": {},
     "output_type": "execute_result"
    }
   ],
   "source": [
    "y_predict[0]"
   ]
  },
  {
   "cell_type": "code",
   "execution_count": 24,
   "id": "5f296b5d",
   "metadata": {},
   "outputs": [
    {
     "name": "stdout",
     "output_type": "stream",
     "text": [
      "              precision    recall  f1-score   support\n",
      "\n",
      "           0       1.00      0.99      0.99       148\n",
      "           1       0.98      1.00      0.99       127\n",
      "\n",
      "    accuracy                           0.99       275\n",
      "   macro avg       0.99      0.99      0.99       275\n",
      "weighted avg       0.99      0.99      0.99       275\n",
      "\n"
     ]
    }
   ],
   "source": [
    "y_predicton = model.predict(X_test)\n",
    "y_predicton = np.argmax(y_predicton, axis = 1)\n",
    "\n",
    "print(classification_report(y_test, y_predicton))"
   ]
  },
  {
   "cell_type": "code",
   "execution_count": 25,
   "id": "77d50ff1",
   "metadata": {},
   "outputs": [
    {
     "data": {
      "image/png": "[encoded data removed]",
      "text/plain": [
       "<Figure size 720x360 with 1 Axes>"
      ]
     },
     "metadata": {
      "needs_background": "light"
     },
     "output_type": "display_data"
    }
   ],
   "source": [
    "# plot loss during training\n",
    "plt.figure(figsize=(10,5))\n",
    "plt.plot(history.history['loss'], label='train')\n",
    "plt.plot(history.history['val_loss'], label='test')\n",
    "plt.title('Model_Loss',size = 15, color = 'r')\n",
    "plt.xlabel('Epochs', size = 10, color = 'b')\n",
    "plt.ylabel('Loss', size = 10, color = 'b')\n",
    "plt.legend()\n",
    "plt.show()"
   ]
  },
  {
   "cell_type": "code",
   "execution_count": 26,
   "id": "8e747eec",
   "metadata": {},
   "outputs": [
    {
     "data": {
      "text/plain": [
       "<matplotlib.legend.Legend at 0x1806ab29548>"
      ]
     },
     "execution_count": 26,
     "metadata": {},
     "output_type": "execute_result"
    },
    {
     "data": {
      "image/png": "[encoded data removed]",
      "text/plain": [
       "<Figure size 720x360 with 1 Axes>"
      ]
     },
     "metadata": {
      "needs_background": "light"
     },
     "output_type": "display_data"
    }
   ],
   "source": [
    "# plot Accuracy during training\n",
    "plt.figure(figsize=(10,5))\n",
    "plt.plot(history.history['accuracy'], label='train')\n",
    "plt.plot(history.history['val_accuracy'], label='test')\n",
    "plt.title('Model_Accuracy', size = 15, color= 'r')\n",
    "plt.xlabel('Epochs', size = 10, color = 'b')\n",
    "plt.ylabel('Accuracy', size = 10, color = 'b')\n",
    "plt.legend()"
   ]
  },
  {
   "cell_type": "markdown",
   "id": "7db7ddfc",
   "metadata": {},
   "source": [
    "# Thank You"
   ]
  }
 ],
 "metadata": {
  "kernelspec": {
   "display_name": "Python 3",
   "language": "python",
   "name": "python3"
  },
  "language_info": {
   "codemirror_mode": {
    "name": "ipython",
    "version": 3
   },
   "file_extension": ".py",
   "mimetype": "text/x-python",
   "name": "python",
   "nbconvert_exporter": "python",
   "pygments_lexer": "ipython3",
   "version": "3.7.9"
  }
 },
 "nbformat": 4,
 "nbformat_minor": 5
}
